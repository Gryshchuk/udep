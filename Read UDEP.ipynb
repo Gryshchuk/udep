{
 "cells": [
  {
   "cell_type": "code",
   "execution_count": 1,
   "metadata": {},
   "outputs": [],
   "source": [
    "#https://github.com/EmilStenstrom/conllu\n",
    "#https://github.com/UniversalDependencies/UD_English-EWT\n",
    "from conllu import parse, parse_tree"
   ]
  },
  {
   "cell_type": "code",
   "execution_count": 3,
   "metadata": {},
   "outputs": [],
   "source": [
    "with open('UD_English-EWT/en_ewt-ud-test.conllu') as f:\n",
    "    c= f.read()"
   ]
  },
  {
   "cell_type": "code",
   "execution_count": 11,
   "metadata": {},
   "outputs": [],
   "source": [
    "samples=c.split('\\n\\n')"
   ]
  },
  {
   "cell_type": "code",
   "execution_count": 14,
   "metadata": {},
   "outputs": [
    {
     "name": "stdout",
     "output_type": "stream",
     "text": [
      "# newdoc id = weblog-blogspot.com_zentelligence_20040423000200_ENG_20040423_000200\n",
      "# sent_id = weblog-blogspot.com_zentelligence_20040423000200_ENG_20040423_000200-0001\n",
      "# text = What if Google Morphed Into GoogleOS?\n",
      "1\tWhat\twhat\tPRON\tWP\tPronType=Int\t0\troot\t0:root\t_\n",
      "2\tif\tif\tSCONJ\tIN\t_\t4\tmark\t4:mark\t_\n",
      "3\tGoogle\tGoogle\tPROPN\tNNP\tNumber=Sing\t4\tnsubj\t4:nsubj\t_\n",
      "4\tMorphed\tmorph\tVERB\tVBD\tMood=Ind|Tense=Past|VerbForm=Fin\t1\tadvcl\t1:advcl:if\t_\n",
      "5\tInto\tinto\tADP\tIN\t_\t6\tcase\t6:case\t_\n",
      "6\tGoogleOS\tGoogleOS\tPROPN\tNNP\tNumber=Sing\t4\tobl\t4:obl:into\tSpaceAfter=No\n",
      "7\t?\t?\tPUNCT\t.\t_\t4\tpunct\t4:punct\t_\n"
     ]
    }
   ],
   "source": [
    "print(samples[0])"
   ]
  },
  {
   "cell_type": "code",
   "execution_count": 19,
   "metadata": {},
   "outputs": [
    {
     "name": "stdout",
     "output_type": "stream",
     "text": [
      "[[OrderedDict([('id', 1), ('form', 'What'), ('lemma', 'what'), ('upostag', 'PRON'), ('xpostag', 'WP'), ('feats', OrderedDict([('PronType', 'Int')])), ('head', 0), ('deprel', 'root'), ('deps', [('root', 0)]), ('misc', None)]), OrderedDict([('id', 2), ('form', 'if'), ('lemma', 'if'), ('upostag', 'SCONJ'), ('xpostag', 'IN'), ('feats', None), ('head', 4), ('deprel', 'mark'), ('deps', [('mark', 4)]), ('misc', None)]), OrderedDict([('id', 3), ('form', 'Google'), ('lemma', 'Google'), ('upostag', 'PROPN'), ('xpostag', 'NNP'), ('feats', OrderedDict([('Number', 'Sing')])), ('head', 4), ('deprel', 'nsubj'), ('deps', [('nsubj', 4)]), ('misc', None)]), OrderedDict([('id', 4), ('form', 'Morphed'), ('lemma', 'morph'), ('upostag', 'VERB'), ('xpostag', 'VBD'), ('feats', OrderedDict([('Mood', 'Ind'), ('Tense', 'Past'), ('VerbForm', 'Fin')])), ('head', 1), ('deprel', 'advcl'), ('deps', [('advcl:if', 1)]), ('misc', None)]), OrderedDict([('id', 5), ('form', 'Into'), ('lemma', 'into'), ('upostag', 'ADP'), ('xpostag', 'IN'), ('feats', None), ('head', 6), ('deprel', 'case'), ('deps', [('case', 6)]), ('misc', None)]), OrderedDict([('id', 6), ('form', 'GoogleOS'), ('lemma', 'GoogleOS'), ('upostag', 'PROPN'), ('xpostag', 'NNP'), ('feats', OrderedDict([('Number', 'Sing')])), ('head', 4), ('deprel', 'obl'), ('deps', [('obl:into', 4)]), ('misc', OrderedDict([('SpaceAfter', 'No')]))]), OrderedDict([('id', 7), ('form', '?'), ('lemma', '?'), ('upostag', 'PUNCT'), ('xpostag', '.'), ('feats', None), ('head', 4), ('deprel', 'punct'), ('deps', [('punct', 4)]), ('misc', None)])]]\n"
     ]
    }
   ],
   "source": [
    "print(parse(samples[0]))"
   ]
  },
  {
   "cell_type": "code",
   "execution_count": 6,
   "metadata": {},
   "outputs": [
    {
     "data": {
      "text/plain": [
       "[OrderedDict([('id', 1),\n",
       "              ('form', 'What'),\n",
       "              ('lemma', 'what'),\n",
       "              ('upostag', 'PRON'),\n",
       "              ('xpostag', 'WP'),\n",
       "              ('feats', OrderedDict([('PronType', 'Int')])),\n",
       "              ('head', 0),\n",
       "              ('deprel', 'root'),\n",
       "              ('deps', [('root', 0)]),\n",
       "              ('misc', None)]),\n",
       " OrderedDict([('id', 2),\n",
       "              ('form', 'if'),\n",
       "              ('lemma', 'if'),\n",
       "              ('upostag', 'SCONJ'),\n",
       "              ('xpostag', 'IN'),\n",
       "              ('feats', None),\n",
       "              ('head', 4),\n",
       "              ('deprel', 'mark'),\n",
       "              ('deps', [('mark', 4)]),\n",
       "              ('misc', None)]),\n",
       " OrderedDict([('id', 3),\n",
       "              ('form', 'Google'),\n",
       "              ('lemma', 'Google'),\n",
       "              ('upostag', 'PROPN'),\n",
       "              ('xpostag', 'NNP'),\n",
       "              ('feats', OrderedDict([('Number', 'Sing')])),\n",
       "              ('head', 4),\n",
       "              ('deprel', 'nsubj'),\n",
       "              ('deps', [('nsubj', 4)]),\n",
       "              ('misc', None)]),\n",
       " OrderedDict([('id', 4),\n",
       "              ('form', 'Morphed'),\n",
       "              ('lemma', 'morph'),\n",
       "              ('upostag', 'VERB'),\n",
       "              ('xpostag', 'VBD'),\n",
       "              ('feats',\n",
       "               OrderedDict([('Mood', 'Ind'),\n",
       "                            ('Tense', 'Past'),\n",
       "                            ('VerbForm', 'Fin')])),\n",
       "              ('head', 1),\n",
       "              ('deprel', 'advcl'),\n",
       "              ('deps', [('advcl:if', 1)]),\n",
       "              ('misc', None)]),\n",
       " OrderedDict([('id', 5),\n",
       "              ('form', 'Into'),\n",
       "              ('lemma', 'into'),\n",
       "              ('upostag', 'ADP'),\n",
       "              ('xpostag', 'IN'),\n",
       "              ('feats', None),\n",
       "              ('head', 6),\n",
       "              ('deprel', 'case'),\n",
       "              ('deps', [('case', 6)]),\n",
       "              ('misc', None)]),\n",
       " OrderedDict([('id', 6),\n",
       "              ('form', 'GoogleOS'),\n",
       "              ('lemma', 'GoogleOS'),\n",
       "              ('upostag', 'PROPN'),\n",
       "              ('xpostag', 'NNP'),\n",
       "              ('feats', OrderedDict([('Number', 'Sing')])),\n",
       "              ('head', 4),\n",
       "              ('deprel', 'obl'),\n",
       "              ('deps', [('obl:into', 4)]),\n",
       "              ('misc', OrderedDict([('SpaceAfter', 'No')]))]),\n",
       " OrderedDict([('id', 7),\n",
       "              ('form', '?'),\n",
       "              ('lemma', '?'),\n",
       "              ('upostag', 'PUNCT'),\n",
       "              ('xpostag', '.'),\n",
       "              ('feats', None),\n",
       "              ('head', 4),\n",
       "              ('deprel', 'punct'),\n",
       "              ('deps', [('punct', 4)]),\n",
       "              ('misc', None)])]"
      ]
     },
     "execution_count": 6,
     "metadata": {},
     "output_type": "execute_result"
    }
   ],
   "source": [
    "parsed_data[0]"
   ]
  },
  {
   "cell_type": "code",
   "execution_count": null,
   "metadata": {},
   "outputs": [],
   "source": []
  }
 ],
 "metadata": {
  "kernelspec": {
   "display_name": "Python 3",
   "language": "python",
   "name": "python3"
  },
  "language_info": {
   "codemirror_mode": {
    "name": "ipython",
    "version": 3
   },
   "file_extension": ".py",
   "mimetype": "text/x-python",
   "name": "python",
   "nbconvert_exporter": "python",
   "pygments_lexer": "ipython3",
   "version": "3.6.4"
  }
 },
 "nbformat": 4,
 "nbformat_minor": 2
}
